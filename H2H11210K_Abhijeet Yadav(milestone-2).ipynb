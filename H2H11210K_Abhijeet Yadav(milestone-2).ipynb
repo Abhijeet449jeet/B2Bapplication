{
 "cells": [
  {
   "cell_type": "markdown",
   "id": "b9056392",
   "metadata": {},
   "source": [
    "### Milestone 2: Abhijeet Yadav 20052000 H2H11210K"
   ]
  },
  {
   "cell_type": "markdown",
   "id": "3859b95c",
   "metadata": {},
   "source": [
    "### Milestone 2"
   ]
  },
  {
   "cell_type": "code",
   "execution_count": 29,
   "id": "2becf01c",
   "metadata": {},
   "outputs": [],
   "source": [
    "import matplotlib.pyplot as plt\n",
    "#1.Create a Histogram on DISTRIBUTION_CHANNEL\n",
    "ques1=dfframe['DISTRIBUTION_CHANNEL'].value_counts()[:20]\n",
    "others=dfframe['DISTRIBUTION_CHANNEL'].value_counts()[20:].sum()"
   ]
  },
  {
   "cell_type": "code",
   "execution_count": 30,
   "id": "d5c5bd07",
   "metadata": {},
   "outputs": [
    {
     "data": {
      "text/plain": [
       "(975992,\n",
       " Korea             8755\n",
       " Congo             8740\n",
       " Iraq              4574\n",
       " Australia         4551\n",
       " Iceland           4540\n",
       " Montserrat        4537\n",
       " Sri Lanka         4533\n",
       " Samoa             4528\n",
       " Cambodia          4521\n",
       " French Guiana     4521\n",
       " American Samoa    4510\n",
       " Guinea-Bissau     4504\n",
       " Botswana          4500\n",
       " Kiribati          4499\n",
       " Netherlands       4498\n",
       " Benin             4497\n",
       " Ukraine           4497\n",
       " Macedonia         4496\n",
       " Portugal          4495\n",
       " Aruba             4495\n",
       " Name: DISTRIBUTION_CHANNEL, dtype: int64)"
      ]
     },
     "execution_count": 30,
     "metadata": {},
     "output_type": "execute_result"
    }
   ],
   "source": [
    "others,ques1"
   ]
  },
  {
   "cell_type": "code",
   "execution_count": 31,
   "id": "d95b16b8",
   "metadata": {},
   "outputs": [],
   "source": [
    "ques1['others']=others"
   ]
  },
  {
   "cell_type": "code",
   "execution_count": 32,
   "id": "770022fd",
   "metadata": {},
   "outputs": [
    {
     "data": {
      "text/plain": [
       "Korea               8755\n",
       "Congo               8740\n",
       "Iraq                4574\n",
       "Australia           4551\n",
       "Iceland             4540\n",
       "Montserrat          4537\n",
       "Sri Lanka           4533\n",
       "Samoa               4528\n",
       "Cambodia            4521\n",
       "French Guiana       4521\n",
       "American Samoa      4510\n",
       "Guinea-Bissau       4504\n",
       "Botswana            4500\n",
       "Kiribati            4499\n",
       "Netherlands         4498\n",
       "Benin               4497\n",
       "Ukraine             4497\n",
       "Macedonia           4496\n",
       "Portugal            4495\n",
       "Aruba               4495\n",
       "others            975992\n",
       "Name: DISTRIBUTION_CHANNEL, dtype: int64"
      ]
     },
     "execution_count": 32,
     "metadata": {},
     "output_type": "execute_result"
    }
   ],
   "source": [
    "ques1"
   ]
  },
  {
   "cell_type": "markdown",
   "id": "2eb9dd98",
   "metadata": {},
   "source": [
    "As strings cant be represented as axes in histogram we use numbers to represent countries in histogram."
   ]
  },
  {
   "cell_type": "code",
   "execution_count": 33,
   "id": "59011702",
   "metadata": {},
   "outputs": [
    {
     "data": {
      "text/plain": [
       "[1, 2, 3, 4, 5, 6, 7, 8, 9, 10, 11, 12, 13, 14, 15, 16, 17, 18, 19, 20, 21]"
      ]
     },
     "execution_count": 33,
     "metadata": {},
     "output_type": "execute_result"
    }
   ],
   "source": [
    "a=[]\n",
    "for i in range(1,22):\n",
    "    a.append(i)\n",
    "a"
   ]
  },
  {
   "cell_type": "code",
   "execution_count": 34,
   "id": "48f5e2fd",
   "metadata": {},
   "outputs": [],
   "source": [
    "a\n",
    "newdf=pd.DataFrame(ques1)\n",
    "newdf['numbercountry']=a"
   ]
  },
  {
   "cell_type": "code",
   "execution_count": 35,
   "id": "aee4856c",
   "metadata": {},
   "outputs": [
    {
     "data": {
      "text/html": [
       "<div>\n",
       "<style scoped>\n",
       "    .dataframe tbody tr th:only-of-type {\n",
       "        vertical-align: middle;\n",
       "    }\n",
       "\n",
       "    .dataframe tbody tr th {\n",
       "        vertical-align: top;\n",
       "    }\n",
       "\n",
       "    .dataframe thead th {\n",
       "        text-align: right;\n",
       "    }\n",
       "</style>\n",
       "<table border=\"1\" class=\"dataframe\">\n",
       "  <thead>\n",
       "    <tr style=\"text-align: right;\">\n",
       "      <th></th>\n",
       "      <th>DISTRIBUTION_CHANNEL</th>\n",
       "      <th>numbercountry</th>\n",
       "    </tr>\n",
       "  </thead>\n",
       "  <tbody>\n",
       "    <tr>\n",
       "      <th>Korea</th>\n",
       "      <td>8755</td>\n",
       "      <td>1</td>\n",
       "    </tr>\n",
       "    <tr>\n",
       "      <th>Congo</th>\n",
       "      <td>8740</td>\n",
       "      <td>2</td>\n",
       "    </tr>\n",
       "    <tr>\n",
       "      <th>Iraq</th>\n",
       "      <td>4574</td>\n",
       "      <td>3</td>\n",
       "    </tr>\n",
       "    <tr>\n",
       "      <th>Australia</th>\n",
       "      <td>4551</td>\n",
       "      <td>4</td>\n",
       "    </tr>\n",
       "    <tr>\n",
       "      <th>Iceland</th>\n",
       "      <td>4540</td>\n",
       "      <td>5</td>\n",
       "    </tr>\n",
       "    <tr>\n",
       "      <th>Montserrat</th>\n",
       "      <td>4537</td>\n",
       "      <td>6</td>\n",
       "    </tr>\n",
       "    <tr>\n",
       "      <th>Sri Lanka</th>\n",
       "      <td>4533</td>\n",
       "      <td>7</td>\n",
       "    </tr>\n",
       "    <tr>\n",
       "      <th>Samoa</th>\n",
       "      <td>4528</td>\n",
       "      <td>8</td>\n",
       "    </tr>\n",
       "    <tr>\n",
       "      <th>Cambodia</th>\n",
       "      <td>4521</td>\n",
       "      <td>9</td>\n",
       "    </tr>\n",
       "    <tr>\n",
       "      <th>French Guiana</th>\n",
       "      <td>4521</td>\n",
       "      <td>10</td>\n",
       "    </tr>\n",
       "    <tr>\n",
       "      <th>American Samoa</th>\n",
       "      <td>4510</td>\n",
       "      <td>11</td>\n",
       "    </tr>\n",
       "    <tr>\n",
       "      <th>Guinea-Bissau</th>\n",
       "      <td>4504</td>\n",
       "      <td>12</td>\n",
       "    </tr>\n",
       "    <tr>\n",
       "      <th>Botswana</th>\n",
       "      <td>4500</td>\n",
       "      <td>13</td>\n",
       "    </tr>\n",
       "    <tr>\n",
       "      <th>Kiribati</th>\n",
       "      <td>4499</td>\n",
       "      <td>14</td>\n",
       "    </tr>\n",
       "    <tr>\n",
       "      <th>Netherlands</th>\n",
       "      <td>4498</td>\n",
       "      <td>15</td>\n",
       "    </tr>\n",
       "    <tr>\n",
       "      <th>Benin</th>\n",
       "      <td>4497</td>\n",
       "      <td>16</td>\n",
       "    </tr>\n",
       "    <tr>\n",
       "      <th>Ukraine</th>\n",
       "      <td>4497</td>\n",
       "      <td>17</td>\n",
       "    </tr>\n",
       "    <tr>\n",
       "      <th>Macedonia</th>\n",
       "      <td>4496</td>\n",
       "      <td>18</td>\n",
       "    </tr>\n",
       "    <tr>\n",
       "      <th>Portugal</th>\n",
       "      <td>4495</td>\n",
       "      <td>19</td>\n",
       "    </tr>\n",
       "    <tr>\n",
       "      <th>Aruba</th>\n",
       "      <td>4495</td>\n",
       "      <td>20</td>\n",
       "    </tr>\n",
       "    <tr>\n",
       "      <th>others</th>\n",
       "      <td>975992</td>\n",
       "      <td>21</td>\n",
       "    </tr>\n",
       "  </tbody>\n",
       "</table>\n",
       "</div>"
      ],
      "text/plain": [
       "                DISTRIBUTION_CHANNEL  numbercountry\n",
       "Korea                           8755              1\n",
       "Congo                           8740              2\n",
       "Iraq                            4574              3\n",
       "Australia                       4551              4\n",
       "Iceland                         4540              5\n",
       "Montserrat                      4537              6\n",
       "Sri Lanka                       4533              7\n",
       "Samoa                           4528              8\n",
       "Cambodia                        4521              9\n",
       "French Guiana                   4521             10\n",
       "American Samoa                  4510             11\n",
       "Guinea-Bissau                   4504             12\n",
       "Botswana                        4500             13\n",
       "Kiribati                        4499             14\n",
       "Netherlands                     4498             15\n",
       "Benin                           4497             16\n",
       "Ukraine                         4497             17\n",
       "Macedonia                       4496             18\n",
       "Portugal                        4495             19\n",
       "Aruba                           4495             20\n",
       "others                        975992             21"
      ]
     },
     "execution_count": 35,
     "metadata": {},
     "output_type": "execute_result"
    }
   ],
   "source": [
    "newdf"
   ]
  },
  {
   "cell_type": "code",
   "execution_count": 36,
   "id": "869c194a",
   "metadata": {},
   "outputs": [
    {
     "data": {
      "image/png": "[encoded data removed]",
      "text/plain": [
       "<Figure size 1440x360 with 2 Axes>"
      ]
     },
     "metadata": {
      "needs_background": "light"
     },
     "output_type": "display_data"
    }
   ],
   "source": [
    "newdf.hist(figsize=[20,5])\n",
    "plt.show()"
   ]
  },
  {
   "cell_type": "code",
   "execution_count": 37,
   "id": "cca980f6",
   "metadata": {},
   "outputs": [
    {
     "data": {
      "image/png": "[encoded data removed]",
      "text/plain": [
       "<Figure size 432x288 with 1 Axes>"
      ]
     },
     "metadata": {
      "needs_background": "light"
     },
     "output_type": "display_data"
    }
   ],
   "source": [
    "plt.hist(newdf['DISTRIBUTION_CHANNEL'])\n",
    "plt.show()"
   ]
  },
  {
   "cell_type": "code",
   "execution_count": 121,
   "id": "37127df7",
   "metadata": {},
   "outputs": [
    {
     "data": {
      "image/png": "[encoded data removed]",
      "text/plain": [
       "<Figure size 1080x720 with 1 Axes>"
      ]
     },
     "metadata": {
      "needs_background": "light"
     },
     "output_type": "display_data"
    }
   ],
   "source": [
    "#not histogram\n",
    "newdf['DISTRIBUTION_CHANNEL'].plot(kind='bar',width=1,figsize=[15,10])\n",
    "plt.show()"
   ]
  },
  {
   "cell_type": "code",
   "execution_count": 39,
   "id": "50924fde",
   "metadata": {},
   "outputs": [],
   "source": [
    "#2.Create a Pie Chart on ORDER_CURRENCY\n",
    "ques2=dfframe['ORDER_CURRENCY'].value_counts()[:11]\n",
    "others2=dfframe['ORDER_CURRENCY'].value_counts()[11:].sum()"
   ]
  },
  {
   "cell_type": "code",
   "execution_count": 40,
   "id": "e2bff735",
   "metadata": {},
   "outputs": [
    {
     "data": {
      "text/plain": [
       "USD    622835\n",
       "EUR    253196\n",
       "AUD     64200\n",
       "CAD     55065\n",
       "GBP     22028\n",
       "MYR     13946\n",
       "PLN     11861\n",
       "AED      7852\n",
       "HKD      6198\n",
       "CHF      5259\n",
       "RON      4731\n",
       "Name: ORDER_CURRENCY, dtype: int64"
      ]
     },
     "execution_count": 40,
     "metadata": {},
     "output_type": "execute_result"
    }
   ],
   "source": [
    "ques2"
   ]
  },
  {
   "cell_type": "code",
   "execution_count": 41,
   "id": "a2e23cdd",
   "metadata": {},
   "outputs": [
    {
     "data": {
      "text/plain": [
       "7612"
      ]
     },
     "execution_count": 41,
     "metadata": {},
     "output_type": "execute_result"
    }
   ],
   "source": [
    "others2"
   ]
  },
  {
   "cell_type": "code",
   "execution_count": 42,
   "id": "ce242016",
   "metadata": {},
   "outputs": [],
   "source": [
    "ques2['others']=others2"
   ]
  },
  {
   "cell_type": "code",
   "execution_count": 43,
   "id": "b24e386a",
   "metadata": {},
   "outputs": [
    {
     "data": {
      "text/html": [
       "<div>\n",
       "<style scoped>\n",
       "    .dataframe tbody tr th:only-of-type {\n",
       "        vertical-align: middle;\n",
       "    }\n",
       "\n",
       "    .dataframe tbody tr th {\n",
       "        vertical-align: top;\n",
       "    }\n",
       "\n",
       "    .dataframe thead th {\n",
       "        text-align: right;\n",
       "    }\n",
       "</style>\n",
       "<table border=\"1\" class=\"dataframe\">\n",
       "  <thead>\n",
       "    <tr style=\"text-align: right;\">\n",
       "      <th></th>\n",
       "      <th>ORDER_CURRENCY</th>\n",
       "    </tr>\n",
       "  </thead>\n",
       "  <tbody>\n",
       "    <tr>\n",
       "      <th>USD</th>\n",
       "      <td>622835</td>\n",
       "    </tr>\n",
       "    <tr>\n",
       "      <th>EUR</th>\n",
       "      <td>253196</td>\n",
       "    </tr>\n",
       "    <tr>\n",
       "      <th>AUD</th>\n",
       "      <td>64200</td>\n",
       "    </tr>\n",
       "    <tr>\n",
       "      <th>CAD</th>\n",
       "      <td>55065</td>\n",
       "    </tr>\n",
       "    <tr>\n",
       "      <th>GBP</th>\n",
       "      <td>22028</td>\n",
       "    </tr>\n",
       "    <tr>\n",
       "      <th>MYR</th>\n",
       "      <td>13946</td>\n",
       "    </tr>\n",
       "    <tr>\n",
       "      <th>PLN</th>\n",
       "      <td>11861</td>\n",
       "    </tr>\n",
       "    <tr>\n",
       "      <th>AED</th>\n",
       "      <td>7852</td>\n",
       "    </tr>\n",
       "    <tr>\n",
       "      <th>HKD</th>\n",
       "      <td>6198</td>\n",
       "    </tr>\n",
       "    <tr>\n",
       "      <th>CHF</th>\n",
       "      <td>5259</td>\n",
       "    </tr>\n",
       "    <tr>\n",
       "      <th>RON</th>\n",
       "      <td>4731</td>\n",
       "    </tr>\n",
       "    <tr>\n",
       "      <th>others</th>\n",
       "      <td>7612</td>\n",
       "    </tr>\n",
       "  </tbody>\n",
       "</table>\n",
       "</div>"
      ],
      "text/plain": [
       "        ORDER_CURRENCY\n",
       "USD             622835\n",
       "EUR             253196\n",
       "AUD              64200\n",
       "CAD              55065\n",
       "GBP              22028\n",
       "MYR              13946\n",
       "PLN              11861\n",
       "AED               7852\n",
       "HKD               6198\n",
       "CHF               5259\n",
       "RON               4731\n",
       "others            7612"
      ]
     },
     "execution_count": 43,
     "metadata": {},
     "output_type": "execute_result"
    }
   ],
   "source": [
    "newdf2=pd.DataFrame(ques2)\n",
    "newdf2"
   ]
  },
  {
   "cell_type": "code",
   "execution_count": 44,
   "id": "c67809a2",
   "metadata": {},
   "outputs": [
    {
     "data": {
      "image/png": "[encoded data removed]",
      "text/plain": [
       "<Figure size 720x720 with 1 Axes>"
      ]
     },
     "metadata": {},
     "output_type": "display_data"
    }
   ],
   "source": [
    "newdf2.plot(kind='pie', y='ORDER_CURRENCY',autopct='%1.0f%%',figsize=[10,10],legend=True)\n",
    "plt.show()"
   ]
  },
  {
   "cell_type": "code",
   "execution_count": 45,
   "id": "d6063460",
   "metadata": {},
   "outputs": [],
   "source": [
    "#3.Create a line chart PURCHASE_ORDER_TYPE and DISTRIBUTION_CHANNEL\n",
    "##PURCHASE_ORDER_TYPE\n",
    "ques3=dfframe['PURCHASE_ORDER_TYPE'].value_counts()[:11]\n",
    "others3=dfframe['PURCHASE_ORDER_TYPE'].value_counts()[11:].sum()"
   ]
  },
  {
   "cell_type": "code",
   "execution_count": 46,
   "id": "23b664e0",
   "metadata": {},
   "outputs": [],
   "source": [
    "ques3['others']=others3"
   ]
  },
  {
   "cell_type": "code",
   "execution_count": 47,
   "id": "104ba84f",
   "metadata": {},
   "outputs": [
    {
     "data": {
      "text/html": [
       "<div>\n",
       "<style scoped>\n",
       "    .dataframe tbody tr th:only-of-type {\n",
       "        vertical-align: middle;\n",
       "    }\n",
       "\n",
       "    .dataframe tbody tr th {\n",
       "        vertical-align: top;\n",
       "    }\n",
       "\n",
       "    .dataframe thead th {\n",
       "        text-align: right;\n",
       "    }\n",
       "</style>\n",
       "<table border=\"1\" class=\"dataframe\">\n",
       "  <thead>\n",
       "    <tr style=\"text-align: right;\">\n",
       "      <th></th>\n",
       "      <th>PURCHASE_ORDER_TYPE</th>\n",
       "    </tr>\n",
       "  </thead>\n",
       "  <tbody>\n",
       "    <tr>\n",
       "      <th>X000</th>\n",
       "      <td>347787</td>\n",
       "    </tr>\n",
       "    <tr>\n",
       "      <th>X001</th>\n",
       "      <td>262041</td>\n",
       "    </tr>\n",
       "    <tr>\n",
       "      <th>9999</th>\n",
       "      <td>139687</td>\n",
       "    </tr>\n",
       "    <tr>\n",
       "      <th>C000</th>\n",
       "      <td>25990</td>\n",
       "    </tr>\n",
       "    <tr>\n",
       "      <th>2554</th>\n",
       "      <td>22526</td>\n",
       "    </tr>\n",
       "    <tr>\n",
       "      <th>C004</th>\n",
       "      <td>21320</td>\n",
       "    </tr>\n",
       "    <tr>\n",
       "      <th>1000</th>\n",
       "      <td>13657</td>\n",
       "    </tr>\n",
       "    <tr>\n",
       "      <th>N000</th>\n",
       "      <td>13461</td>\n",
       "    </tr>\n",
       "    <tr>\n",
       "      <th>A000</th>\n",
       "      <td>13187</td>\n",
       "    </tr>\n",
       "    <tr>\n",
       "      <th>F001</th>\n",
       "      <td>12421</td>\n",
       "    </tr>\n",
       "    <tr>\n",
       "      <th>I202</th>\n",
       "      <td>11709</td>\n",
       "    </tr>\n",
       "    <tr>\n",
       "      <th>others</th>\n",
       "      <td>172307</td>\n",
       "    </tr>\n",
       "  </tbody>\n",
       "</table>\n",
       "</div>"
      ],
      "text/plain": [
       "        PURCHASE_ORDER_TYPE\n",
       "X000                 347787\n",
       "X001                 262041\n",
       "9999                 139687\n",
       "C000                  25990\n",
       "2554                  22526\n",
       "C004                  21320\n",
       "1000                  13657\n",
       "N000                  13461\n",
       "A000                  13187\n",
       "F001                  12421\n",
       "I202                  11709\n",
       "others               172307"
      ]
     },
     "execution_count": 47,
     "metadata": {},
     "output_type": "execute_result"
    }
   ],
   "source": [
    "newdf3=pd.DataFrame(ques3)\n",
    "newdf3"
   ]
  },
  {
   "cell_type": "code",
   "execution_count": 48,
   "id": "7ba6dcd7",
   "metadata": {},
   "outputs": [],
   "source": [
    "from sklearn.preprocessing import StandardScaler\n",
    "  \n",
    "# define standard scaler\n",
    "scaler = StandardScaler()\n",
    "  \n",
    "# transform data\n",
    "newdf4 = scaler.fit_transform(newdf3)"
   ]
  },
  {
   "cell_type": "code",
   "execution_count": 49,
   "id": "12dc835b",
   "metadata": {},
   "outputs": [
    {
     "data": {
      "text/html": [
       "<div>\n",
       "<style scoped>\n",
       "    .dataframe tbody tr th:only-of-type {\n",
       "        vertical-align: middle;\n",
       "    }\n",
       "\n",
       "    .dataframe tbody tr th {\n",
       "        vertical-align: top;\n",
       "    }\n",
       "\n",
       "    .dataframe thead th {\n",
       "        text-align: right;\n",
       "    }\n",
       "</style>\n",
       "<table border=\"1\" class=\"dataframe\">\n",
       "  <thead>\n",
       "    <tr style=\"text-align: right;\">\n",
       "      <th></th>\n",
       "      <th>0</th>\n",
       "    </tr>\n",
       "  </thead>\n",
       "  <tbody>\n",
       "    <tr>\n",
       "      <th>0</th>\n",
       "      <td>2.336426</td>\n",
       "    </tr>\n",
       "    <tr>\n",
       "      <th>1</th>\n",
       "      <td>1.565236</td>\n",
       "    </tr>\n",
       "    <tr>\n",
       "      <th>2</th>\n",
       "      <td>0.464797</td>\n",
       "    </tr>\n",
       "    <tr>\n",
       "      <th>3</th>\n",
       "      <td>-0.557781</td>\n",
       "    </tr>\n",
       "    <tr>\n",
       "      <th>4</th>\n",
       "      <td>-0.588936</td>\n",
       "    </tr>\n",
       "    <tr>\n",
       "      <th>5</th>\n",
       "      <td>-0.599782</td>\n",
       "    </tr>\n",
       "    <tr>\n",
       "      <th>6</th>\n",
       "      <td>-0.668702</td>\n",
       "    </tr>\n",
       "    <tr>\n",
       "      <th>7</th>\n",
       "      <td>-0.670465</td>\n",
       "    </tr>\n",
       "    <tr>\n",
       "      <th>8</th>\n",
       "      <td>-0.672930</td>\n",
       "    </tr>\n",
       "    <tr>\n",
       "      <th>9</th>\n",
       "      <td>-0.679819</td>\n",
       "    </tr>\n",
       "    <tr>\n",
       "      <th>10</th>\n",
       "      <td>-0.686223</td>\n",
       "    </tr>\n",
       "    <tr>\n",
       "      <th>11</th>\n",
       "      <td>0.758178</td>\n",
       "    </tr>\n",
       "  </tbody>\n",
       "</table>\n",
       "</div>"
      ],
      "text/plain": [
       "           0\n",
       "0   2.336426\n",
       "1   1.565236\n",
       "2   0.464797\n",
       "3  -0.557781\n",
       "4  -0.588936\n",
       "5  -0.599782\n",
       "6  -0.668702\n",
       "7  -0.670465\n",
       "8  -0.672930\n",
       "9  -0.679819\n",
       "10 -0.686223\n",
       "11  0.758178"
      ]
     },
     "execution_count": 49,
     "metadata": {},
     "output_type": "execute_result"
    }
   ],
   "source": [
    "\n",
    "newdf4 = pd.DataFrame(newdf4)\n",
    "newdf4"
   ]
  },
  {
   "cell_type": "code",
   "execution_count": 50,
   "id": "10a926eb",
   "metadata": {},
   "outputs": [],
   "source": [
    "newdf3['Standardized Data']=newdf4[0].astype(float).values"
   ]
  },
  {
   "cell_type": "code",
   "execution_count": 51,
   "id": "ec7caa0b",
   "metadata": {},
   "outputs": [
    {
     "data": {
      "text/html": [
       "<div>\n",
       "<style scoped>\n",
       "    .dataframe tbody tr th:only-of-type {\n",
       "        vertical-align: middle;\n",
       "    }\n",
       "\n",
       "    .dataframe tbody tr th {\n",
       "        vertical-align: top;\n",
       "    }\n",
       "\n",
       "    .dataframe thead th {\n",
       "        text-align: right;\n",
       "    }\n",
       "</style>\n",
       "<table border=\"1\" class=\"dataframe\">\n",
       "  <thead>\n",
       "    <tr style=\"text-align: right;\">\n",
       "      <th></th>\n",
       "      <th>PURCHASE_ORDER_TYPE</th>\n",
       "      <th>Standardized Data</th>\n",
       "    </tr>\n",
       "  </thead>\n",
       "  <tbody>\n",
       "    <tr>\n",
       "      <th>X000</th>\n",
       "      <td>347787</td>\n",
       "      <td>2.336426</td>\n",
       "    </tr>\n",
       "    <tr>\n",
       "      <th>X001</th>\n",
       "      <td>262041</td>\n",
       "      <td>1.565236</td>\n",
       "    </tr>\n",
       "    <tr>\n",
       "      <th>9999</th>\n",
       "      <td>139687</td>\n",
       "      <td>0.464797</td>\n",
       "    </tr>\n",
       "    <tr>\n",
       "      <th>C000</th>\n",
       "      <td>25990</td>\n",
       "      <td>-0.557781</td>\n",
       "    </tr>\n",
       "    <tr>\n",
       "      <th>2554</th>\n",
       "      <td>22526</td>\n",
       "      <td>-0.588936</td>\n",
       "    </tr>\n",
       "    <tr>\n",
       "      <th>C004</th>\n",
       "      <td>21320</td>\n",
       "      <td>-0.599782</td>\n",
       "    </tr>\n",
       "    <tr>\n",
       "      <th>1000</th>\n",
       "      <td>13657</td>\n",
       "      <td>-0.668702</td>\n",
       "    </tr>\n",
       "    <tr>\n",
       "      <th>N000</th>\n",
       "      <td>13461</td>\n",
       "      <td>-0.670465</td>\n",
       "    </tr>\n",
       "    <tr>\n",
       "      <th>A000</th>\n",
       "      <td>13187</td>\n",
       "      <td>-0.672930</td>\n",
       "    </tr>\n",
       "    <tr>\n",
       "      <th>F001</th>\n",
       "      <td>12421</td>\n",
       "      <td>-0.679819</td>\n",
       "    </tr>\n",
       "    <tr>\n",
       "      <th>I202</th>\n",
       "      <td>11709</td>\n",
       "      <td>-0.686223</td>\n",
       "    </tr>\n",
       "    <tr>\n",
       "      <th>others</th>\n",
       "      <td>172307</td>\n",
       "      <td>0.758178</td>\n",
       "    </tr>\n",
       "  </tbody>\n",
       "</table>\n",
       "</div>"
      ],
      "text/plain": [
       "        PURCHASE_ORDER_TYPE  Standardized Data\n",
       "X000                 347787           2.336426\n",
       "X001                 262041           1.565236\n",
       "9999                 139687           0.464797\n",
       "C000                  25990          -0.557781\n",
       "2554                  22526          -0.588936\n",
       "C004                  21320          -0.599782\n",
       "1000                  13657          -0.668702\n",
       "N000                  13461          -0.670465\n",
       "A000                  13187          -0.672930\n",
       "F001                  12421          -0.679819\n",
       "I202                  11709          -0.686223\n",
       "others               172307           0.758178"
      ]
     },
     "execution_count": 51,
     "metadata": {},
     "output_type": "execute_result"
    }
   ],
   "source": [
    "newdf3"
   ]
  },
  {
   "cell_type": "code",
   "execution_count": 52,
   "id": "6e94f54c",
   "metadata": {},
   "outputs": [
    {
     "data": {
      "image/png": "[encoded data removed]",
      "text/plain": [
       "<Figure size 432x288 with 1 Axes>"
      ]
     },
     "metadata": {
      "needs_background": "light"
     },
     "output_type": "display_data"
    }
   ],
   "source": [
    "newdf3.plot.line()\n",
    "plt.show()"
   ]
  },
  {
   "cell_type": "code",
   "execution_count": 53,
   "id": "eb4fe694",
   "metadata": {},
   "outputs": [],
   "source": [
    "##DISTRIBUTION_CHANNEL\n",
    "ques5=dfframe['DISTRIBUTION_CHANNEL'].value_counts()[:21]\n",
    "others5=dfframe['DISTRIBUTION_CHANNEL'].value_counts()[21:].sum()\n",
    "ques6=dfframe['DISTRIBUTION_CHANNEL'].value_counts()[:21].sum()"
   ]
  },
  {
   "cell_type": "code",
   "execution_count": 54,
   "id": "abeaba59",
   "metadata": {},
   "outputs": [
    {
     "data": {
      "text/plain": [
       "(Korea             8755\n",
       " Congo             8740\n",
       " Iraq              4574\n",
       " Australia         4551\n",
       " Iceland           4540\n",
       " Montserrat        4537\n",
       " Sri Lanka         4533\n",
       " Samoa             4528\n",
       " Cambodia          4521\n",
       " French Guiana     4521\n",
       " American Samoa    4510\n",
       " Guinea-Bissau     4504\n",
       " Botswana          4500\n",
       " Kiribati          4499\n",
       " Netherlands       4498\n",
       " Benin             4497\n",
       " Ukraine           4497\n",
       " Macedonia         4496\n",
       " Portugal          4495\n",
       " Aruba             4495\n",
       " Jordan            4493\n",
       " Name: DISTRIBUTION_CHANNEL, dtype: int64,\n",
       " 971499,\n",
       " 103284)"
      ]
     },
     "execution_count": 54,
     "metadata": {},
     "output_type": "execute_result"
    }
   ],
   "source": [
    "ques5,others5,ques6"
   ]
  },
  {
   "cell_type": "code",
   "execution_count": 55,
   "id": "953286db",
   "metadata": {},
   "outputs": [],
   "source": [
    "ques5['others']=others5"
   ]
  },
  {
   "cell_type": "code",
   "execution_count": 56,
   "id": "27e45bbb",
   "metadata": {},
   "outputs": [
    {
     "data": {
      "text/plain": [
       "Korea               8755\n",
       "Congo               8740\n",
       "Iraq                4574\n",
       "Australia           4551\n",
       "Iceland             4540\n",
       "Montserrat          4537\n",
       "Sri Lanka           4533\n",
       "Samoa               4528\n",
       "Cambodia            4521\n",
       "French Guiana       4521\n",
       "American Samoa      4510\n",
       "Guinea-Bissau       4504\n",
       "Botswana            4500\n",
       "Kiribati            4499\n",
       "Netherlands         4498\n",
       "Benin               4497\n",
       "Ukraine             4497\n",
       "Macedonia           4496\n",
       "Portugal            4495\n",
       "Aruba               4495\n",
       "Jordan              4493\n",
       "others            971499\n",
       "Name: DISTRIBUTION_CHANNEL, dtype: int64"
      ]
     },
     "execution_count": 56,
     "metadata": {},
     "output_type": "execute_result"
    }
   ],
   "source": [
    "ques5"
   ]
  },
  {
   "cell_type": "code",
   "execution_count": 57,
   "id": "7c33b78d",
   "metadata": {},
   "outputs": [
    {
     "data": {
      "text/html": [
       "<div>\n",
       "<style scoped>\n",
       "    .dataframe tbody tr th:only-of-type {\n",
       "        vertical-align: middle;\n",
       "    }\n",
       "\n",
       "    .dataframe tbody tr th {\n",
       "        vertical-align: top;\n",
       "    }\n",
       "\n",
       "    .dataframe thead th {\n",
       "        text-align: right;\n",
       "    }\n",
       "</style>\n",
       "<table border=\"1\" class=\"dataframe\">\n",
       "  <thead>\n",
       "    <tr style=\"text-align: right;\">\n",
       "      <th></th>\n",
       "      <th>DISTRIBUTION_CHANNEL</th>\n",
       "    </tr>\n",
       "  </thead>\n",
       "  <tbody>\n",
       "    <tr>\n",
       "      <th>Korea</th>\n",
       "      <td>8755</td>\n",
       "    </tr>\n",
       "    <tr>\n",
       "      <th>Congo</th>\n",
       "      <td>8740</td>\n",
       "    </tr>\n",
       "    <tr>\n",
       "      <th>Iraq</th>\n",
       "      <td>4574</td>\n",
       "    </tr>\n",
       "    <tr>\n",
       "      <th>Australia</th>\n",
       "      <td>4551</td>\n",
       "    </tr>\n",
       "    <tr>\n",
       "      <th>Iceland</th>\n",
       "      <td>4540</td>\n",
       "    </tr>\n",
       "    <tr>\n",
       "      <th>Montserrat</th>\n",
       "      <td>4537</td>\n",
       "    </tr>\n",
       "    <tr>\n",
       "      <th>Sri Lanka</th>\n",
       "      <td>4533</td>\n",
       "    </tr>\n",
       "    <tr>\n",
       "      <th>Samoa</th>\n",
       "      <td>4528</td>\n",
       "    </tr>\n",
       "    <tr>\n",
       "      <th>Cambodia</th>\n",
       "      <td>4521</td>\n",
       "    </tr>\n",
       "    <tr>\n",
       "      <th>French Guiana</th>\n",
       "      <td>4521</td>\n",
       "    </tr>\n",
       "    <tr>\n",
       "      <th>American Samoa</th>\n",
       "      <td>4510</td>\n",
       "    </tr>\n",
       "    <tr>\n",
       "      <th>Guinea-Bissau</th>\n",
       "      <td>4504</td>\n",
       "    </tr>\n",
       "    <tr>\n",
       "      <th>Botswana</th>\n",
       "      <td>4500</td>\n",
       "    </tr>\n",
       "    <tr>\n",
       "      <th>Kiribati</th>\n",
       "      <td>4499</td>\n",
       "    </tr>\n",
       "    <tr>\n",
       "      <th>Netherlands</th>\n",
       "      <td>4498</td>\n",
       "    </tr>\n",
       "    <tr>\n",
       "      <th>Benin</th>\n",
       "      <td>4497</td>\n",
       "    </tr>\n",
       "    <tr>\n",
       "      <th>Ukraine</th>\n",
       "      <td>4497</td>\n",
       "    </tr>\n",
       "    <tr>\n",
       "      <th>Macedonia</th>\n",
       "      <td>4496</td>\n",
       "    </tr>\n",
       "    <tr>\n",
       "      <th>Portugal</th>\n",
       "      <td>4495</td>\n",
       "    </tr>\n",
       "    <tr>\n",
       "      <th>Aruba</th>\n",
       "      <td>4495</td>\n",
       "    </tr>\n",
       "    <tr>\n",
       "      <th>Jordan</th>\n",
       "      <td>4493</td>\n",
       "    </tr>\n",
       "    <tr>\n",
       "      <th>others</th>\n",
       "      <td>971499</td>\n",
       "    </tr>\n",
       "  </tbody>\n",
       "</table>\n",
       "</div>"
      ],
      "text/plain": [
       "                DISTRIBUTION_CHANNEL\n",
       "Korea                           8755\n",
       "Congo                           8740\n",
       "Iraq                            4574\n",
       "Australia                       4551\n",
       "Iceland                         4540\n",
       "Montserrat                      4537\n",
       "Sri Lanka                       4533\n",
       "Samoa                           4528\n",
       "Cambodia                        4521\n",
       "French Guiana                   4521\n",
       "American Samoa                  4510\n",
       "Guinea-Bissau                   4504\n",
       "Botswana                        4500\n",
       "Kiribati                        4499\n",
       "Netherlands                     4498\n",
       "Benin                           4497\n",
       "Ukraine                         4497\n",
       "Macedonia                       4496\n",
       "Portugal                        4495\n",
       "Aruba                           4495\n",
       "Jordan                          4493\n",
       "others                        971499"
      ]
     },
     "execution_count": 57,
     "metadata": {},
     "output_type": "execute_result"
    }
   ],
   "source": [
    "newdf5=pd.DataFrame(ques5)\n",
    "newdf5"
   ]
  },
  {
   "cell_type": "code",
   "execution_count": 58,
   "id": "71c6dc63",
   "metadata": {},
   "outputs": [
    {
     "data": {
      "image/png": "[encoded data removed]",
      "text/plain": [
       "<Figure size 432x288 with 1 Axes>"
      ]
     },
     "metadata": {
      "needs_background": "light"
     },
     "output_type": "display_data"
    }
   ],
   "source": [
    "newdf5.plot.line()\n",
    "plt.show()"
   ]
  },
  {
   "cell_type": "code",
   "execution_count": 59,
   "id": "2dd7fd1a",
   "metadata": {},
   "outputs": [],
   "source": [
    "#4.Create a line plot on ORDER_CREATION_DATE and amount_in_usd\n",
    "##ORDER_CREATION_DATE\n",
    "newdf6=dfframe['ORDER_CREATION_DATE'].value_counts()[:21]\n",
    "others6=dfframe['ORDER_CREATION_DATE'].value_counts()[21:].sum()"
   ]
  },
  {
   "cell_type": "code",
   "execution_count": 60,
   "id": "221a0140",
   "metadata": {},
   "outputs": [
    {
     "data": {
      "text/plain": [
       "(2022-02-23    17123\n",
       " 2022-03-17    15955\n",
       " 2022-06-01    15198\n",
       " 2022-01-21    13659\n",
       " 2022-01-19    13479\n",
       " 2022-01-18    13291\n",
       " 2022-05-03    13189\n",
       " 2022-01-10    12954\n",
       " 2022-03-08    12543\n",
       " 2022-04-26    12484\n",
       " 2022-03-01    11762\n",
       " 2022-01-25    11689\n",
       " 2022-01-26    11493\n",
       " 2022-05-17    11493\n",
       " 2022-02-16    10953\n",
       " 2022-02-08    10930\n",
       " 2022-05-05    10881\n",
       " 2022-03-09    10789\n",
       " 2022-03-23    10541\n",
       " 2022-01-07    10480\n",
       " 2022-01-20    10425\n",
       " Name: ORDER_CREATION_DATE, dtype: int64,\n",
       " 813472)"
      ]
     },
     "execution_count": 60,
     "metadata": {},
     "output_type": "execute_result"
    }
   ],
   "source": [
    "newdf6,others6"
   ]
  },
  {
   "cell_type": "code",
   "execution_count": 61,
   "id": "2dfe655c",
   "metadata": {},
   "outputs": [],
   "source": [
    "newdf6['others']=others6"
   ]
  },
  {
   "cell_type": "code",
   "execution_count": 62,
   "id": "99b6406f",
   "metadata": {},
   "outputs": [
    {
     "data": {
      "text/plain": [
       "2022-02-23 00:00:00     17123\n",
       "2022-03-17 00:00:00     15955\n",
       "2022-06-01 00:00:00     15198\n",
       "2022-01-21 00:00:00     13659\n",
       "2022-01-19 00:00:00     13479\n",
       "2022-01-18 00:00:00     13291\n",
       "2022-05-03 00:00:00     13189\n",
       "2022-01-10 00:00:00     12954\n",
       "2022-03-08 00:00:00     12543\n",
       "2022-04-26 00:00:00     12484\n",
       "2022-03-01 00:00:00     11762\n",
       "2022-01-25 00:00:00     11689\n",
       "2022-01-26 00:00:00     11493\n",
       "2022-05-17 00:00:00     11493\n",
       "2022-02-16 00:00:00     10953\n",
       "2022-02-08 00:00:00     10930\n",
       "2022-05-05 00:00:00     10881\n",
       "2022-03-09 00:00:00     10789\n",
       "2022-03-23 00:00:00     10541\n",
       "2022-01-07 00:00:00     10480\n",
       "2022-01-20 00:00:00     10425\n",
       "others                 813472\n",
       "Name: ORDER_CREATION_DATE, dtype: int64"
      ]
     },
     "execution_count": 62,
     "metadata": {},
     "output_type": "execute_result"
    }
   ],
   "source": [
    "newdf6"
   ]
  },
  {
   "cell_type": "code",
   "execution_count": 63,
   "id": "1e1a23d2",
   "metadata": {},
   "outputs": [
    {
     "data": {
      "image/png": "[encoded data removed]",
      "text/plain": [
       "<Figure size 1080x720 with 1 Axes>"
      ]
     },
     "metadata": {
      "needs_background": "light"
     },
     "output_type": "display_data"
    }
   ],
   "source": [
    "newdf6.plot.line(figsize=[15,10])\n",
    "plt.show()"
   ]
  },
  {
   "cell_type": "code",
   "execution_count": 64,
   "id": "ca5b0766",
   "metadata": {},
   "outputs": [],
   "source": [
    "##amount_in_usd\n",
    "newdf7=dfframe['amount_in_usd'].value_counts()[:21]\n",
    "others7=dfframe['amount_in_usd'].value_counts()[21:].sum()"
   ]
  },
  {
   "cell_type": "code",
   "execution_count": 65,
   "id": "8fe9a898",
   "metadata": {},
   "outputs": [
    {
     "data": {
      "text/plain": [
       "(0.0000      237821\n",
       " 5.4000        4481\n",
       " 12.6000       3677\n",
       " 4.9500        2413\n",
       " 248.4000      2320\n",
       " 178.2000      2171\n",
       " 7.7000        2067\n",
       " 21.3100       2063\n",
       " 239.4000      1711\n",
       " 208.8000      1635\n",
       " 180.0000      1593\n",
       " 252.0000      1361\n",
       " 81.2000       1277\n",
       " 153.0000      1256\n",
       " 496.8000      1189\n",
       " 194.4000      1180\n",
       " 160.2000      1177\n",
       " 219.6000      1133\n",
       " 9.7900        1101\n",
       " 270.0000      1089\n",
       " 22.6800       1085\n",
       " 262.8000      1083\n",
       " 417.6000      1081\n",
       " 163.8000      1062\n",
       " 140.4000      1041\n",
       " 320.4000      1026\n",
       " 63.9360        934\n",
       " 109.5168       922\n",
       " 117.0000       913\n",
       " 5.1900         902\n",
       " 187.2000       874\n",
       " 5.8000         823\n",
       " 5.1400         819\n",
       " 257.4000       803\n",
       " 97.4400        793\n",
       " 356.4000       776\n",
       " 5.3900         759\n",
       " 261.0000       753\n",
       " 266.4000       752\n",
       " 478.8000       745\n",
       " 11.0000        729\n",
       " 21.0000        720\n",
       " Name: amount_in_usd, dtype: int64,\n",
       " 783393)"
      ]
     },
     "execution_count": 65,
     "metadata": {},
     "output_type": "execute_result"
    }
   ],
   "source": [
    "newdf7,others7"
   ]
  },
  {
   "cell_type": "code",
   "execution_count": 66,
   "id": "7f4a6948",
   "metadata": {},
   "outputs": [],
   "source": [
    "newdf7['others']=others7"
   ]
  },
  {
   "cell_type": "code",
   "execution_count": 67,
   "id": "e0d5ad20",
   "metadata": {},
   "outputs": [
    {
     "data": {
      "text/plain": [
       "0.0                   237821\n",
       "5.4                     4481\n",
       "12.6                    3677\n",
       "4.95                    2413\n",
       "248.4                   2320\n",
       "178.2                   2171\n",
       "7.7                     2067\n",
       "21.31                   2063\n",
       "239.4                   1711\n",
       "208.8                   1635\n",
       "180.0                   1593\n",
       "252.0                   1361\n",
       "81.2                    1277\n",
       "153.0                   1256\n",
       "496.8                   1189\n",
       "194.4                   1180\n",
       "160.2                   1177\n",
       "219.6                   1133\n",
       "9.79                    1101\n",
       "270.0                   1089\n",
       "22.68                   1085\n",
       "262.8                   1083\n",
       "417.6                   1081\n",
       "163.8                   1062\n",
       "140.4                   1041\n",
       "320.4                   1026\n",
       "63.936                   934\n",
       "109.51679999999999       922\n",
       "117.0                    913\n",
       "5.19                     902\n",
       "187.2                    874\n",
       "5.8                      823\n",
       "5.14                     819\n",
       "257.4                    803\n",
       "97.44                    793\n",
       "356.4                    776\n",
       "5.39                     759\n",
       "261.0                    753\n",
       "266.4                    752\n",
       "478.8                    745\n",
       "11.0                     729\n",
       "21.0                     720\n",
       "others                783393\n",
       "Name: amount_in_usd, dtype: int64"
      ]
     },
     "execution_count": 67,
     "metadata": {},
     "output_type": "execute_result"
    }
   ],
   "source": [
    "newdf7"
   ]
  },
  {
   "cell_type": "code",
   "execution_count": 68,
   "id": "bcf5ff7c",
   "metadata": {},
   "outputs": [
    {
     "data": {
      "image/png": "[encoded data removed]",
      "text/plain": [
       "<Figure size 1080x720 with 1 Axes>"
      ]
     },
     "metadata": {
      "needs_background": "light"
     },
     "output_type": "display_data"
    }
   ],
   "source": [
    "newdf7.plot.line(figsize=[15,10])\n",
    "plt.show()"
   ]
  },
  {
   "cell_type": "code",
   "execution_count": 81,
   "id": "55f25d44",
   "metadata": {},
   "outputs": [],
   "source": [
    "#5.Create a boxplot on ORDER_AMOUNT to find out the outliers\n",
    "ques8=dfframe['ORDER_AMOUNT'].astype('float')"
   ]
  },
  {
   "cell_type": "code",
   "execution_count": 82,
   "id": "768300b0",
   "metadata": {},
   "outputs": [
    {
     "data": {
      "text/html": [
       "<div>\n",
       "<style scoped>\n",
       "    .dataframe tbody tr th:only-of-type {\n",
       "        vertical-align: middle;\n",
       "    }\n",
       "\n",
       "    .dataframe tbody tr th {\n",
       "        vertical-align: top;\n",
       "    }\n",
       "\n",
       "    .dataframe thead th {\n",
       "        text-align: right;\n",
       "    }\n",
       "</style>\n",
       "<table border=\"1\" class=\"dataframe\">\n",
       "  <thead>\n",
       "    <tr style=\"text-align: right;\">\n",
       "      <th></th>\n",
       "      <th>ORDER_AMOUNT</th>\n",
       "    </tr>\n",
       "  </thead>\n",
       "  <tbody>\n",
       "    <tr>\n",
       "      <th>0</th>\n",
       "      <td>954.61</td>\n",
       "    </tr>\n",
       "    <tr>\n",
       "      <th>1</th>\n",
       "      <td>787.36</td>\n",
       "    </tr>\n",
       "    <tr>\n",
       "      <th>2</th>\n",
       "      <td>67493.46</td>\n",
       "    </tr>\n",
       "    <tr>\n",
       "      <th>3</th>\n",
       "      <td>1405.54</td>\n",
       "    </tr>\n",
       "    <tr>\n",
       "      <th>4</th>\n",
       "      <td>0.00</td>\n",
       "    </tr>\n",
       "  </tbody>\n",
       "</table>\n",
       "</div>"
      ],
      "text/plain": [
       "   ORDER_AMOUNT\n",
       "0        954.61\n",
       "1        787.36\n",
       "2      67493.46\n",
       "3       1405.54\n",
       "4          0.00"
      ]
     },
     "execution_count": 82,
     "metadata": {},
     "output_type": "execute_result"
    }
   ],
   "source": [
    "newdf8=pd.DataFrame(ques8)\n",
    "newdf8.head()"
   ]
  },
  {
   "cell_type": "code",
   "execution_count": 93,
   "id": "2ad7af64",
   "metadata": {},
   "outputs": [
    {
     "data": {
      "text/html": [
       "<div>\n",
       "<style scoped>\n",
       "    .dataframe tbody tr th:only-of-type {\n",
       "        vertical-align: middle;\n",
       "    }\n",
       "\n",
       "    .dataframe tbody tr th {\n",
       "        vertical-align: top;\n",
       "    }\n",
       "\n",
       "    .dataframe thead th {\n",
       "        text-align: right;\n",
       "    }\n",
       "</style>\n",
       "<table border=\"1\" class=\"dataframe\">\n",
       "  <thead>\n",
       "    <tr style=\"text-align: right;\">\n",
       "      <th></th>\n",
       "      <th>CUSTOMER_ORDER_ID</th>\n",
       "      <th>SALES_ORG</th>\n",
       "      <th>DISTRIBUTION_CHANNEL</th>\n",
       "      <th>DIVISION</th>\n",
       "      <th>RELEASED_CREDIT_VALUE</th>\n",
       "      <th>PURCHASE_ORDER_TYPE</th>\n",
       "      <th>COMPANY_CODE</th>\n",
       "      <th>ORDER_CREATION_DATE</th>\n",
       "      <th>ORDER_CREATION_TIME</th>\n",
       "      <th>CREDIT_CONTROL_AREA</th>\n",
       "      <th>SOLD_TO_PARTY</th>\n",
       "      <th>ORDER_AMOUNT</th>\n",
       "      <th>REQUESTED_DELIVERY_DATE</th>\n",
       "      <th>ORDER_CURRENCY</th>\n",
       "      <th>CREDIT_STATUS</th>\n",
       "      <th>CUSTOMER_NUMBER</th>\n",
       "      <th>diff date</th>\n",
       "      <th>amount_in_usd</th>\n",
       "      <th>uniue_cust_id</th>\n",
       "    </tr>\n",
       "  </thead>\n",
       "  <tbody>\n",
       "    <tr>\n",
       "      <th>0</th>\n",
       "      <td>946851639</td>\n",
       "      <td>3537</td>\n",
       "      <td>United States of America</td>\n",
       "      <td>South-Region</td>\n",
       "      <td>0,00</td>\n",
       "      <td>1000</td>\n",
       "      <td>3220</td>\n",
       "      <td>2022-01-01</td>\n",
       "      <td>43012</td>\n",
       "      <td>SR02</td>\n",
       "      <td>756141537</td>\n",
       "      <td>954.61</td>\n",
       "      <td>2022-01-13</td>\n",
       "      <td>EUR</td>\n",
       "      <td>NaN</td>\n",
       "      <td>12311807</td>\n",
       "      <td>False</td>\n",
       "      <td>1030.9788</td>\n",
       "      <td>123118073220</td>\n",
       "    </tr>\n",
       "    <tr>\n",
       "      <th>1</th>\n",
       "      <td>963432061</td>\n",
       "      <td>3449</td>\n",
       "      <td>Martinique</td>\n",
       "      <td>South-Region</td>\n",
       "      <td>0,00</td>\n",
       "      <td>1000</td>\n",
       "      <td>3220</td>\n",
       "      <td>2022-01-01</td>\n",
       "      <td>43114</td>\n",
       "      <td>NR03</td>\n",
       "      <td>798847812</td>\n",
       "      <td>787.36</td>\n",
       "      <td>2022-01-11</td>\n",
       "      <td>EUR</td>\n",
       "      <td>NaN</td>\n",
       "      <td>12311807</td>\n",
       "      <td>False</td>\n",
       "      <td>850.3488</td>\n",
       "      <td>123118073220</td>\n",
       "    </tr>\n",
       "    <tr>\n",
       "      <th>2</th>\n",
       "      <td>971991639</td>\n",
       "      <td>3238</td>\n",
       "      <td>Moldova</td>\n",
       "      <td>South-Region</td>\n",
       "      <td>82342,02</td>\n",
       "      <td>I200</td>\n",
       "      <td>3260</td>\n",
       "      <td>2022-01-01</td>\n",
       "      <td>110019</td>\n",
       "      <td>NR01</td>\n",
       "      <td>960984659</td>\n",
       "      <td>67493.46</td>\n",
       "      <td>2022-01-12</td>\n",
       "      <td>EUR</td>\n",
       "      <td>93.0</td>\n",
       "      <td>12118758</td>\n",
       "      <td>False</td>\n",
       "      <td>72892.9368</td>\n",
       "      <td>121187583260</td>\n",
       "    </tr>\n",
       "    <tr>\n",
       "      <th>3</th>\n",
       "      <td>754349803</td>\n",
       "      <td>3911</td>\n",
       "      <td>United Arab Emirates</td>\n",
       "      <td>South-Region</td>\n",
       "      <td>1471,24</td>\n",
       "      <td>N000</td>\n",
       "      <td>3290</td>\n",
       "      <td>2022-01-01</td>\n",
       "      <td>153013</td>\n",
       "      <td>SR02</td>\n",
       "      <td>925857642</td>\n",
       "      <td>1405.54</td>\n",
       "      <td>2022-01-06</td>\n",
       "      <td>EUR</td>\n",
       "      <td>93.0</td>\n",
       "      <td>1210499770</td>\n",
       "      <td>False</td>\n",
       "      <td>1517.9832</td>\n",
       "      <td>12104997703290</td>\n",
       "    </tr>\n",
       "    <tr>\n",
       "      <th>4</th>\n",
       "      <td>930253442</td>\n",
       "      <td>2381</td>\n",
       "      <td>Greece</td>\n",
       "      <td>South-Region</td>\n",
       "      <td>0,00</td>\n",
       "      <td>N000</td>\n",
       "      <td>3290</td>\n",
       "      <td>2022-01-01</td>\n",
       "      <td>160020</td>\n",
       "      <td>SR01</td>\n",
       "      <td>947942786</td>\n",
       "      <td>0.00</td>\n",
       "      <td>2022-01-06</td>\n",
       "      <td>EUR</td>\n",
       "      <td>64.0</td>\n",
       "      <td>1210351400</td>\n",
       "      <td>False</td>\n",
       "      <td>0.0000</td>\n",
       "      <td>12103514003290</td>\n",
       "    </tr>\n",
       "  </tbody>\n",
       "</table>\n",
       "</div>"
      ],
      "text/plain": [
       "   CUSTOMER_ORDER_ID  SALES_ORG      DISTRIBUTION_CHANNEL      DIVISION  \\\n",
       "0          946851639       3537  United States of America  South-Region   \n",
       "1          963432061       3449                Martinique  South-Region   \n",
       "2          971991639       3238                   Moldova  South-Region   \n",
       "3          754349803       3911      United Arab Emirates  South-Region   \n",
       "4          930253442       2381                    Greece  South-Region   \n",
       "\n",
       "  RELEASED_CREDIT_VALUE PURCHASE_ORDER_TYPE  COMPANY_CODE ORDER_CREATION_DATE  \\\n",
       "0                  0,00                1000          3220          2022-01-01   \n",
       "1                  0,00                1000          3220          2022-01-01   \n",
       "2              82342,02                I200          3260          2022-01-01   \n",
       "3               1471,24                N000          3290          2022-01-01   \n",
       "4                  0,00                N000          3290          2022-01-01   \n",
       "\n",
       "   ORDER_CREATION_TIME CREDIT_CONTROL_AREA  SOLD_TO_PARTY ORDER_AMOUNT  \\\n",
       "0                43012                SR02      756141537       954.61   \n",
       "1                43114                NR03      798847812       787.36   \n",
       "2               110019                NR01      960984659     67493.46   \n",
       "3               153013                SR02      925857642      1405.54   \n",
       "4               160020                SR01      947942786         0.00   \n",
       "\n",
       "  REQUESTED_DELIVERY_DATE ORDER_CURRENCY  CREDIT_STATUS  CUSTOMER_NUMBER  \\\n",
       "0              2022-01-13            EUR            NaN         12311807   \n",
       "1              2022-01-11            EUR            NaN         12311807   \n",
       "2              2022-01-12            EUR           93.0         12118758   \n",
       "3              2022-01-06            EUR           93.0       1210499770   \n",
       "4              2022-01-06            EUR           64.0       1210351400   \n",
       "\n",
       "   diff date  amount_in_usd   uniue_cust_id  \n",
       "0      False      1030.9788    123118073220  \n",
       "1      False       850.3488    123118073220  \n",
       "2      False     72892.9368    121187583260  \n",
       "3      False      1517.9832  12104997703290  \n",
       "4      False         0.0000  12103514003290  "
      ]
     },
     "execution_count": 93,
     "metadata": {},
     "output_type": "execute_result"
    }
   ],
   "source": [
    "dfframe.head()"
   ]
  },
  {
   "cell_type": "code",
   "execution_count": 91,
   "id": "e6498665",
   "metadata": {},
   "outputs": [
    {
     "data": {
      "image/png": "[encoded data removed]",
      "text/plain": [
       "<Figure size 1080x720 with 1 Axes>"
      ]
     },
     "metadata": {
      "needs_background": "light"
     },
     "output_type": "display_data"
    }
   ],
   "source": [
    "##Circles are outliers\n",
    "newdf8.plot(kind='box',figsize=[15,10],grid=True)\n",
    "plt.show()"
   ]
  },
  {
   "cell_type": "code",
   "execution_count": 114,
   "id": "ea97f133",
   "metadata": {},
   "outputs": [
    {
     "data": {
      "image/png": "[encoded data removed]",
      "text/plain": [
       "<Figure size 720x648 with 1 Axes>"
      ]
     },
     "metadata": {
      "needs_background": "light"
     },
     "output_type": "display_data"
    }
   ],
   "source": [
    "import seaborn as sns\n",
    "plt.figure(figsize=(10,9))\n",
    "sns.boxplot(data=newdf8, showfliers=False, saturation=1)\n",
    "plt.title(\"Boxplot of Order Amount\", fontsize = 25)\n",
    "plt.xlabel(\"Index\", size=25)\n",
    "plt.ylabel('Order Amount', size=22)\n",
    "plt.xticks(rotation=30, fontsize=20)\n",
    "plt.show()"
   ]
  },
  {
   "cell_type": "code",
   "execution_count": 76,
   "id": "b2308daf",
   "metadata": {},
   "outputs": [],
   "source": [
    "#6.Create a barchart on COMPANY_CODE and ORDER_AMOUNT\n",
    "##Company_code\n",
    "newdf9=dfframe['COMPANY_CODE'].value_counts()[:21]\n",
    "others9=dfframe['COMPANY_CODE'].value_counts()[21:].sum()"
   ]
  },
  {
   "cell_type": "code",
   "execution_count": 78,
   "id": "86c8a1dd",
   "metadata": {},
   "outputs": [
    {
     "data": {
      "text/plain": [
       "(3660    347970\n",
       " 3670    264882\n",
       " 3220     94034\n",
       " 3000     64262\n",
       " 3590     55107\n",
       " 3130     29142\n",
       " 3100     28344\n",
       " 3260     28055\n",
       " 3350     26829\n",
       " 3290     24812\n",
       " 3430     21298\n",
       " 3050     13946\n",
       " 3320     12693\n",
       " 271       7852\n",
       " 3470      7334\n",
       " 150       6583\n",
       " 3030      6198\n",
       " 4260      5810\n",
       " 3610      5628\n",
       " 3390      5258\n",
       " 59        4928\n",
       " Name: COMPANY_CODE, dtype: int64,\n",
       " 13818)"
      ]
     },
     "execution_count": 78,
     "metadata": {},
     "output_type": "execute_result"
    }
   ],
   "source": [
    "newdf9,others9"
   ]
  },
  {
   "cell_type": "code",
   "execution_count": 79,
   "id": "e087943b",
   "metadata": {},
   "outputs": [],
   "source": [
    "newdf9['others']=others9"
   ]
  },
  {
   "cell_type": "code",
   "execution_count": 80,
   "id": "0597261e",
   "metadata": {},
   "outputs": [
    {
     "data": {
      "text/plain": [
       "3660      347970\n",
       "3670      264882\n",
       "3220       94034\n",
       "3000       64262\n",
       "3590       55107\n",
       "3130       29142\n",
       "3100       28344\n",
       "3260       28055\n",
       "3350       26829\n",
       "3290       24812\n",
       "3430       21298\n",
       "3050       13946\n",
       "3320       12693\n",
       "271         7852\n",
       "3470        7334\n",
       "150         6583\n",
       "3030        6198\n",
       "4260        5810\n",
       "3610        5628\n",
       "3390        5258\n",
       "59          4928\n",
       "others     13818\n",
       "Name: COMPANY_CODE, dtype: int64"
      ]
     },
     "execution_count": 80,
     "metadata": {},
     "output_type": "execute_result"
    }
   ],
   "source": [
    "newdf9"
   ]
  },
  {
   "cell_type": "code",
   "execution_count": 92,
   "id": "15ae6db3",
   "metadata": {},
   "outputs": [
    {
     "data": {
      "image/png": "[encoded data removed]",
      "text/plain": [
       "<Figure size 1080x720 with 1 Axes>"
      ]
     },
     "metadata": {
      "needs_background": "light"
     },
     "output_type": "display_data"
    }
   ],
   "source": [
    "newdf9.plot(kind='bar',figsize=[15,10],xlabel='Company Code',ylabel='Counts',rot=0)\n",
    "plt.show()"
   ]
  },
  {
   "cell_type": "code",
   "execution_count": 116,
   "id": "e2187705",
   "metadata": {},
   "outputs": [],
   "source": [
    "##ORDER_AMOUNT\n",
    "newdf10=dfframe['ORDER_AMOUNT'].value_counts()[:21]\n",
    "others10=dfframe['ORDER_AMOUNT'].value_counts()[21:].sum()"
   ]
  },
  {
   "cell_type": "code",
   "execution_count": 117,
   "id": "0f7a868f",
   "metadata": {},
   "outputs": [
    {
     "data": {
      "text/plain": [
       "(0.00      237651\n",
       " 5.40        4481\n",
       " 12.60       3810\n",
       " 4.95        2412\n",
       " 248.40      2327\n",
       " 178.20      2201\n",
       " 7.70        2095\n",
       " 21.31       2063\n",
       " 239.40      1731\n",
       " 208.80      1678\n",
       " 180.00      1661\n",
       " 252.00      1437\n",
       " 219.60      1337\n",
       " 153.00      1281\n",
       " 81.20       1279\n",
       " 496.80      1249\n",
       " 194.40      1249\n",
       " 160.20      1199\n",
       " 262.80      1178\n",
       " 270.00      1127\n",
       " 86.40       1117\n",
       " Name: ORDER_AMOUNT, dtype: int64,\n",
       " 800220)"
      ]
     },
     "execution_count": 117,
     "metadata": {},
     "output_type": "execute_result"
    }
   ],
   "source": [
    "newdf10,others10"
   ]
  },
  {
   "cell_type": "code",
   "execution_count": 118,
   "id": "12425487",
   "metadata": {},
   "outputs": [],
   "source": [
    "newdf10['others']=others10"
   ]
  },
  {
   "cell_type": "code",
   "execution_count": 119,
   "id": "ed6f35db",
   "metadata": {},
   "outputs": [
    {
     "data": {
      "text/plain": [
       "0.00      237651\n",
       "5.40        4481\n",
       "12.60       3810\n",
       "4.95        2412\n",
       "248.40      2327\n",
       "178.20      2201\n",
       "7.70        2095\n",
       "21.31       2063\n",
       "239.40      1731\n",
       "208.80      1678\n",
       "180.00      1661\n",
       "252.00      1437\n",
       "219.60      1337\n",
       "153.00      1281\n",
       "81.20       1279\n",
       "496.80      1249\n",
       "194.40      1249\n",
       "160.20      1199\n",
       "262.80      1178\n",
       "270.00      1127\n",
       "86.40       1117\n",
       "others    800220\n",
       "Name: ORDER_AMOUNT, dtype: int64"
      ]
     },
     "execution_count": 119,
     "metadata": {},
     "output_type": "execute_result"
    }
   ],
   "source": [
    "newdf10"
   ]
  },
  {
   "cell_type": "code",
   "execution_count": 120,
   "id": "19fcff4d",
   "metadata": {},
   "outputs": [
    {
     "data": {
      "image/png": "[encoded data removed]",
      "text/plain": [
       "<Figure size 1080x720 with 1 Axes>"
      ]
     },
     "metadata": {
      "needs_background": "light"
     },
     "output_type": "display_data"
    }
   ],
   "source": [
    "newdf10.plot(kind='bar',figsize=[15,10],xlabel='Order Amount',ylabel='Counts',rot=0,width=0.5)\n",
    "plt.show()"
   ]
  },
  {
   "cell_type": "code",
   "execution_count": null,
   "id": "f061955d",
   "metadata": {},
   "outputs": [],
   "source": []
  },
  {
   "cell_type": "code",
   "execution_count": null,
   "id": "51384009",
   "metadata": {},
   "outputs": [],
   "source": []
  }
 ],
 "metadata": {
  "kernelspec": {
   "display_name": "Python 3 (ipykernel)",
   "language": "python",
   "name": "python3"
  },
  "language_info": {
   "codemirror_mode": {
    "name": "ipython",
    "version": 3
   },
   "file_extension": ".py",
   "mimetype": "text/x-python",
   "name": "python",
   "nbconvert_exporter": "python",
   "pygments_lexer": "ipython3",
   "version": "3.11.1"
  }
 },
 "nbformat": 4,
 "nbformat_minor": 5
}
